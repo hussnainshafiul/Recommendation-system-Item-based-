{
  "cells": [
    {
      "cell_type": "code",
      "execution_count": 7,
      "metadata": {
        "id": "TxFZeqaqgOjX"
      },
      "outputs": [],
      "source": [
        "from flask import Flask, request, jsonify\n",
        "import pandas as pd\n",
        "import difflib\n",
        "from sklearn.feature_extraction.text import TfidfVectorizer\n",
        "from sklearn.metrics.pairwise import cosine_similarity\n",
        "from sklearn.model_selection import train_test_split\n",
        "from sklearn.neighbors import KNeighborsClassifier\n",
        "from sklearn.metrics import accuracy_score, mean_squared_error\n",
        "from pyngrok import ngrok\n",
        "from flask_ngrok import run_with_ngrok\n",
        "import numpy as np\n"
      ]
    },
    {
      "cell_type": "code",
      "execution_count": 5,
      "metadata": {
        "colab": {
          "base_uri": "https://localhost:8080/",
          "height": 250
        },
        "id": "lJVqQio_gWeF",
        "outputId": "c7053fd3-c58f-48e5-d3c3-113aadf8ebac"
      },
      "outputs": [
        {
          "output_type": "execute_result",
          "data": {
            "text/plain": [
              "   ProductId Gender Category SubCategory ProductType Colour   Usage  \\\n",
              "0      42419  Girls  Apparel     Topwear        Tops  White  Casual   \n",
              "1      34009  Girls  Apparel     Topwear        Tops  Black  Casual   \n",
              "2      40143  Girls  Apparel     Topwear        Tops   Blue  Casual   \n",
              "3      23623  Girls  Apparel     Topwear        Tops   Pink  Casual   \n",
              "4      47154  Girls  Apparel  Bottomwear      Capris  Black  Casual   \n",
              "\n",
              "                                  ProductTitle      Image  \\\n",
              "0           Gini and Jony Girls Knit White Top  42419.jpg   \n",
              "1                Gini and Jony Girls Black Top  34009.jpg   \n",
              "2  Gini and Jony Girls Pretty Blossom Blue Top  40143.jpg   \n",
              "3   Doodle Kids Girls Pink I love Shopping Top  23623.jpg   \n",
              "4             Gini and Jony Girls Black Capris  47154.jpg   \n",
              "\n",
              "                                            ImageURL  \n",
              "0  http://assets.myntassets.com/v1/images/style/p...  \n",
              "1  http://assets.myntassets.com/v1/images/style/p...  \n",
              "2  http://assets.myntassets.com/v1/images/style/p...  \n",
              "3  http://assets.myntassets.com/v1/images/style/p...  \n",
              "4  http://assets.myntassets.com/v1/images/style/p...  "
            ],
            "text/html": [
              "\n",
              "\n",
              "  <div id=\"df-462dbca8-3f7e-48a3-9976-170f5d891456\">\n",
              "    <div class=\"colab-df-container\">\n",
              "      <div>\n",
              "<style scoped>\n",
              "    .dataframe tbody tr th:only-of-type {\n",
              "        vertical-align: middle;\n",
              "    }\n",
              "\n",
              "    .dataframe tbody tr th {\n",
              "        vertical-align: top;\n",
              "    }\n",
              "\n",
              "    .dataframe thead th {\n",
              "        text-align: right;\n",
              "    }\n",
              "</style>\n",
              "<table border=\"1\" class=\"dataframe\">\n",
              "  <thead>\n",
              "    <tr style=\"text-align: right;\">\n",
              "      <th></th>\n",
              "      <th>ProductId</th>\n",
              "      <th>Gender</th>\n",
              "      <th>Category</th>\n",
              "      <th>SubCategory</th>\n",
              "      <th>ProductType</th>\n",
              "      <th>Colour</th>\n",
              "      <th>Usage</th>\n",
              "      <th>ProductTitle</th>\n",
              "      <th>Image</th>\n",
              "      <th>ImageURL</th>\n",
              "    </tr>\n",
              "  </thead>\n",
              "  <tbody>\n",
              "    <tr>\n",
              "      <th>0</th>\n",
              "      <td>42419</td>\n",
              "      <td>Girls</td>\n",
              "      <td>Apparel</td>\n",
              "      <td>Topwear</td>\n",
              "      <td>Tops</td>\n",
              "      <td>White</td>\n",
              "      <td>Casual</td>\n",
              "      <td>Gini and Jony Girls Knit White Top</td>\n",
              "      <td>42419.jpg</td>\n",
              "      <td>http://assets.myntassets.com/v1/images/style/p...</td>\n",
              "    </tr>\n",
              "    <tr>\n",
              "      <th>1</th>\n",
              "      <td>34009</td>\n",
              "      <td>Girls</td>\n",
              "      <td>Apparel</td>\n",
              "      <td>Topwear</td>\n",
              "      <td>Tops</td>\n",
              "      <td>Black</td>\n",
              "      <td>Casual</td>\n",
              "      <td>Gini and Jony Girls Black Top</td>\n",
              "      <td>34009.jpg</td>\n",
              "      <td>http://assets.myntassets.com/v1/images/style/p...</td>\n",
              "    </tr>\n",
              "    <tr>\n",
              "      <th>2</th>\n",
              "      <td>40143</td>\n",
              "      <td>Girls</td>\n",
              "      <td>Apparel</td>\n",
              "      <td>Topwear</td>\n",
              "      <td>Tops</td>\n",
              "      <td>Blue</td>\n",
              "      <td>Casual</td>\n",
              "      <td>Gini and Jony Girls Pretty Blossom Blue Top</td>\n",
              "      <td>40143.jpg</td>\n",
              "      <td>http://assets.myntassets.com/v1/images/style/p...</td>\n",
              "    </tr>\n",
              "    <tr>\n",
              "      <th>3</th>\n",
              "      <td>23623</td>\n",
              "      <td>Girls</td>\n",
              "      <td>Apparel</td>\n",
              "      <td>Topwear</td>\n",
              "      <td>Tops</td>\n",
              "      <td>Pink</td>\n",
              "      <td>Casual</td>\n",
              "      <td>Doodle Kids Girls Pink I love Shopping Top</td>\n",
              "      <td>23623.jpg</td>\n",
              "      <td>http://assets.myntassets.com/v1/images/style/p...</td>\n",
              "    </tr>\n",
              "    <tr>\n",
              "      <th>4</th>\n",
              "      <td>47154</td>\n",
              "      <td>Girls</td>\n",
              "      <td>Apparel</td>\n",
              "      <td>Bottomwear</td>\n",
              "      <td>Capris</td>\n",
              "      <td>Black</td>\n",
              "      <td>Casual</td>\n",
              "      <td>Gini and Jony Girls Black Capris</td>\n",
              "      <td>47154.jpg</td>\n",
              "      <td>http://assets.myntassets.com/v1/images/style/p...</td>\n",
              "    </tr>\n",
              "  </tbody>\n",
              "</table>\n",
              "</div>\n",
              "      <button class=\"colab-df-convert\" onclick=\"convertToInteractive('df-462dbca8-3f7e-48a3-9976-170f5d891456')\"\n",
              "              title=\"Convert this dataframe to an interactive table.\"\n",
              "              style=\"display:none;\">\n",
              "\n",
              "  <svg xmlns=\"http://www.w3.org/2000/svg\" height=\"24px\"viewBox=\"0 0 24 24\"\n",
              "       width=\"24px\">\n",
              "    <path d=\"M0 0h24v24H0V0z\" fill=\"none\"/>\n",
              "    <path d=\"M18.56 5.44l.94 2.06.94-2.06 2.06-.94-2.06-.94-.94-2.06-.94 2.06-2.06.94zm-11 1L8.5 8.5l.94-2.06 2.06-.94-2.06-.94L8.5 2.5l-.94 2.06-2.06.94zm10 10l.94 2.06.94-2.06 2.06-.94-2.06-.94-.94-2.06-.94 2.06-2.06.94z\"/><path d=\"M17.41 7.96l-1.37-1.37c-.4-.4-.92-.59-1.43-.59-.52 0-1.04.2-1.43.59L10.3 9.45l-7.72 7.72c-.78.78-.78 2.05 0 2.83L4 21.41c.39.39.9.59 1.41.59.51 0 1.02-.2 1.41-.59l7.78-7.78 2.81-2.81c.8-.78.8-2.07 0-2.86zM5.41 20L4 18.59l7.72-7.72 1.47 1.35L5.41 20z\"/>\n",
              "  </svg>\n",
              "      </button>\n",
              "\n",
              "\n",
              "\n",
              "    <div id=\"df-2ac72982-3f34-4e91-a1d2-905a6838c76c\">\n",
              "      <button class=\"colab-df-quickchart\" onclick=\"quickchart('df-2ac72982-3f34-4e91-a1d2-905a6838c76c')\"\n",
              "              title=\"Suggest charts.\"\n",
              "              style=\"display:none;\">\n",
              "\n",
              "<svg xmlns=\"http://www.w3.org/2000/svg\" height=\"24px\"viewBox=\"0 0 24 24\"\n",
              "     width=\"24px\">\n",
              "    <g>\n",
              "        <path d=\"M19 3H5c-1.1 0-2 .9-2 2v14c0 1.1.9 2 2 2h14c1.1 0 2-.9 2-2V5c0-1.1-.9-2-2-2zM9 17H7v-7h2v7zm4 0h-2V7h2v10zm4 0h-2v-4h2v4z\"/>\n",
              "    </g>\n",
              "</svg>\n",
              "      </button>\n",
              "    </div>\n",
              "\n",
              "<style>\n",
              "  .colab-df-quickchart {\n",
              "    background-color: #E8F0FE;\n",
              "    border: none;\n",
              "    border-radius: 50%;\n",
              "    cursor: pointer;\n",
              "    display: none;\n",
              "    fill: #1967D2;\n",
              "    height: 32px;\n",
              "    padding: 0 0 0 0;\n",
              "    width: 32px;\n",
              "  }\n",
              "\n",
              "  .colab-df-quickchart:hover {\n",
              "    background-color: #E2EBFA;\n",
              "    box-shadow: 0px 1px 2px rgba(60, 64, 67, 0.3), 0px 1px 3px 1px rgba(60, 64, 67, 0.15);\n",
              "    fill: #174EA6;\n",
              "  }\n",
              "\n",
              "  [theme=dark] .colab-df-quickchart {\n",
              "    background-color: #3B4455;\n",
              "    fill: #D2E3FC;\n",
              "  }\n",
              "\n",
              "  [theme=dark] .colab-df-quickchart:hover {\n",
              "    background-color: #434B5C;\n",
              "    box-shadow: 0px 1px 3px 1px rgba(0, 0, 0, 0.15);\n",
              "    filter: drop-shadow(0px 1px 2px rgba(0, 0, 0, 0.3));\n",
              "    fill: #FFFFFF;\n",
              "  }\n",
              "</style>\n",
              "\n",
              "    <script>\n",
              "      async function quickchart(key) {\n",
              "        const containerElement = document.querySelector('#' + key);\n",
              "        const charts = await google.colab.kernel.invokeFunction(\n",
              "            'suggestCharts', [key], {});\n",
              "      }\n",
              "    </script>\n",
              "\n",
              "      <script>\n",
              "\n",
              "function displayQuickchartButton(domScope) {\n",
              "  let quickchartButtonEl =\n",
              "    domScope.querySelector('#df-2ac72982-3f34-4e91-a1d2-905a6838c76c button.colab-df-quickchart');\n",
              "  quickchartButtonEl.style.display =\n",
              "    google.colab.kernel.accessAllowed ? 'block' : 'none';\n",
              "}\n",
              "\n",
              "        displayQuickchartButton(document);\n",
              "      </script>\n",
              "      <style>\n",
              "    .colab-df-container {\n",
              "      display:flex;\n",
              "      flex-wrap:wrap;\n",
              "      gap: 12px;\n",
              "    }\n",
              "\n",
              "    .colab-df-convert {\n",
              "      background-color: #E8F0FE;\n",
              "      border: none;\n",
              "      border-radius: 50%;\n",
              "      cursor: pointer;\n",
              "      display: none;\n",
              "      fill: #1967D2;\n",
              "      height: 32px;\n",
              "      padding: 0 0 0 0;\n",
              "      width: 32px;\n",
              "    }\n",
              "\n",
              "    .colab-df-convert:hover {\n",
              "      background-color: #E2EBFA;\n",
              "      box-shadow: 0px 1px 2px rgba(60, 64, 67, 0.3), 0px 1px 3px 1px rgba(60, 64, 67, 0.15);\n",
              "      fill: #174EA6;\n",
              "    }\n",
              "\n",
              "    [theme=dark] .colab-df-convert {\n",
              "      background-color: #3B4455;\n",
              "      fill: #D2E3FC;\n",
              "    }\n",
              "\n",
              "    [theme=dark] .colab-df-convert:hover {\n",
              "      background-color: #434B5C;\n",
              "      box-shadow: 0px 1px 3px 1px rgba(0, 0, 0, 0.15);\n",
              "      filter: drop-shadow(0px 1px 2px rgba(0, 0, 0, 0.3));\n",
              "      fill: #FFFFFF;\n",
              "    }\n",
              "  </style>\n",
              "\n",
              "      <script>\n",
              "        const buttonEl =\n",
              "          document.querySelector('#df-462dbca8-3f7e-48a3-9976-170f5d891456 button.colab-df-convert');\n",
              "        buttonEl.style.display =\n",
              "          google.colab.kernel.accessAllowed ? 'block' : 'none';\n",
              "\n",
              "        async function convertToInteractive(key) {\n",
              "          const element = document.querySelector('#df-462dbca8-3f7e-48a3-9976-170f5d891456');\n",
              "          const dataTable =\n",
              "            await google.colab.kernel.invokeFunction('convertToInteractive',\n",
              "                                                     [key], {});\n",
              "          if (!dataTable) return;\n",
              "\n",
              "          const docLinkHtml = 'Like what you see? Visit the ' +\n",
              "            '<a target=\"_blank\" href=https://colab.research.google.com/notebooks/data_table.ipynb>data table notebook</a>'\n",
              "            + ' to learn more about interactive tables.';\n",
              "          element.innerHTML = '';\n",
              "          dataTable['output_type'] = 'display_data';\n",
              "          await google.colab.output.renderOutput(dataTable, element);\n",
              "          const docLink = document.createElement('div');\n",
              "          docLink.innerHTML = docLinkHtml;\n",
              "          element.appendChild(docLink);\n",
              "        }\n",
              "      </script>\n",
              "    </div>\n",
              "  </div>\n"
            ]
          },
          "metadata": {},
          "execution_count": 5
        }
      ],
      "source": [
        "# Create a Flask application instance\n",
        "app = Flask(__name__)\n",
        "run_with_ngrok(app)  # Start ngrok when the app is run\n",
        "# loading the data from the csv file\n",
        "df=pd.read_csv('fashion.csv')\n",
        "df.head()"
      ]
    },
    {
      "cell_type": "code",
      "execution_count": null,
      "metadata": {
        "colab": {
          "base_uri": "https://localhost:8080/"
        },
        "id": "liJRslfEgwQS",
        "outputId": "e1c4aafc-4a70-4476-87e7-066a4fb34d46"
      },
      "outputs": [
        {
          "name": "stdout",
          "output_type": "stream",
          "text": [
            "      ProductId Gender  Category SubCategory   ProductType Colour   Usage  \\\n",
            "0         42419  Girls   Apparel     Topwear          Tops  White  Casual   \n",
            "1         34009  Girls   Apparel     Topwear          Tops  Black  Casual   \n",
            "2         40143  Girls   Apparel     Topwear          Tops   Blue  Casual   \n",
            "3         23623  Girls   Apparel     Topwear          Tops   Pink  Casual   \n",
            "4         47154  Girls   Apparel  Bottomwear        Capris  Black  Casual   \n",
            "...         ...    ...       ...         ...           ...    ...     ...   \n",
            "2901      51755  Women  Footwear       Shoes  Casual Shoes  Black  Casual   \n",
            "2902      47630  Women  Footwear       Shoes         Flats   Blue  Casual   \n",
            "2903      32836  Women  Footwear       Shoes         Flats   Pink  Casual   \n",
            "2904      35821  Women  Footwear       Shoes         Heels  Black  Casual   \n",
            "2905      18553  Women  Footwear       Shoes         Heels   Blue  Casual   \n",
            "\n",
            "                                     ProductTitle      Image  \\\n",
            "0              Gini and Jony Girls Knit White Top  42419.jpg   \n",
            "1                   Gini and Jony Girls Black Top  34009.jpg   \n",
            "2     Gini and Jony Girls Pretty Blossom Blue Top  40143.jpg   \n",
            "3      Doodle Kids Girls Pink I love Shopping Top  23623.jpg   \n",
            "4                Gini and Jony Girls Black Capris  47154.jpg   \n",
            "...                                           ...        ...   \n",
            "2901                    Catwalk Women Black Shoes  51755.jpg   \n",
            "2902              Carlton London Women Blue Shoes  47630.jpg   \n",
            "2903             Grendha Women Flori Pink Sandals  32836.jpg   \n",
            "2904                    Enroute Women Black Heels  35821.jpg   \n",
            "2905          Catwalk Women Mary Janes Blue Flats  18553.jpg   \n",
            "\n",
            "                                               ImageURL  \n",
            "0     http://assets.myntassets.com/v1/images/style/p...  \n",
            "1     http://assets.myntassets.com/v1/images/style/p...  \n",
            "2     http://assets.myntassets.com/v1/images/style/p...  \n",
            "3     http://assets.myntassets.com/v1/images/style/p...  \n",
            "4     http://assets.myntassets.com/v1/images/style/p...  \n",
            "...                                                 ...  \n",
            "2901  http://assets.myntassets.com/v1/images/style/p...  \n",
            "2902  http://assets.myntassets.com/v1/images/style/p...  \n",
            "2903  http://assets.myntassets.com/v1/images/style/p...  \n",
            "2904  http://assets.myntassets.com/v1/images/style/p...  \n",
            "2905  http://assets.myntassets.com/v1/images/style/p...  \n",
            "\n",
            "[2174 rows x 10 columns]\n"
          ]
        }
      ],
      "source": [
        "def normalize_title(title):\n",
        "    words = title.lower().split()\n",
        "    sorted_words = ' '.join(sorted(words))\n",
        "    return sorted_words\n",
        "\n",
        "# Convert titles to normalized form for comparison\n",
        "df['NormalizedTitle'] = df['ProductTitle'].apply(normalize_title)\n",
        "\n",
        "# Remove duplicates from 'df' in place\n",
        "df.drop_duplicates(subset='NormalizedTitle', keep='first', inplace=True)\n",
        "\n",
        "# Remove the 'NormalizedTitle' column\n",
        "df.drop(columns=['NormalizedTitle'], inplace=True)\n",
        "\n",
        "# Print or use the modified DataFrame 'df' with duplicates removed\n",
        "print(df)"
      ]
    },
    {
      "cell_type": "code",
      "execution_count": null,
      "metadata": {
        "colab": {
          "base_uri": "https://localhost:8080/",
          "height": 267
        },
        "id": "lw-Pbvr9hBPF",
        "outputId": "91134fe6-d3b2-49b8-c433-2936a787fe0e"
      },
      "outputs": [
        {
          "data": {
            "text/html": [
              "\n",
              "\n",
              "  <div id=\"df-64118d43-dd7c-487a-8efb-1936b082e277\">\n",
              "    <div class=\"colab-df-container\">\n",
              "      <div>\n",
              "<style scoped>\n",
              "    .dataframe tbody tr th:only-of-type {\n",
              "        vertical-align: middle;\n",
              "    }\n",
              "\n",
              "    .dataframe tbody tr th {\n",
              "        vertical-align: top;\n",
              "    }\n",
              "\n",
              "    .dataframe thead th {\n",
              "        text-align: right;\n",
              "    }\n",
              "</style>\n",
              "<table border=\"1\" class=\"dataframe\">\n",
              "  <thead>\n",
              "    <tr style=\"text-align: right;\">\n",
              "      <th></th>\n",
              "      <th>index</th>\n",
              "      <th>ProductId</th>\n",
              "      <th>Gender</th>\n",
              "      <th>Category</th>\n",
              "      <th>SubCategory</th>\n",
              "      <th>ProductType</th>\n",
              "      <th>Colour</th>\n",
              "      <th>Usage</th>\n",
              "      <th>ProductTitle</th>\n",
              "      <th>Image</th>\n",
              "      <th>ImageURL</th>\n",
              "    </tr>\n",
              "  </thead>\n",
              "  <tbody>\n",
              "    <tr>\n",
              "      <th>0</th>\n",
              "      <td>0</td>\n",
              "      <td>42419</td>\n",
              "      <td>Girls</td>\n",
              "      <td>Apparel</td>\n",
              "      <td>Topwear</td>\n",
              "      <td>Tops</td>\n",
              "      <td>White</td>\n",
              "      <td>Casual</td>\n",
              "      <td>Gini and Jony Girls Knit White Top</td>\n",
              "      <td>42419.jpg</td>\n",
              "      <td>http://assets.myntassets.com/v1/images/style/p...</td>\n",
              "    </tr>\n",
              "    <tr>\n",
              "      <th>1</th>\n",
              "      <td>1</td>\n",
              "      <td>34009</td>\n",
              "      <td>Girls</td>\n",
              "      <td>Apparel</td>\n",
              "      <td>Topwear</td>\n",
              "      <td>Tops</td>\n",
              "      <td>Black</td>\n",
              "      <td>Casual</td>\n",
              "      <td>Gini and Jony Girls Black Top</td>\n",
              "      <td>34009.jpg</td>\n",
              "      <td>http://assets.myntassets.com/v1/images/style/p...</td>\n",
              "    </tr>\n",
              "    <tr>\n",
              "      <th>2</th>\n",
              "      <td>2</td>\n",
              "      <td>40143</td>\n",
              "      <td>Girls</td>\n",
              "      <td>Apparel</td>\n",
              "      <td>Topwear</td>\n",
              "      <td>Tops</td>\n",
              "      <td>Blue</td>\n",
              "      <td>Casual</td>\n",
              "      <td>Gini and Jony Girls Pretty Blossom Blue Top</td>\n",
              "      <td>40143.jpg</td>\n",
              "      <td>http://assets.myntassets.com/v1/images/style/p...</td>\n",
              "    </tr>\n",
              "    <tr>\n",
              "      <th>3</th>\n",
              "      <td>3</td>\n",
              "      <td>23623</td>\n",
              "      <td>Girls</td>\n",
              "      <td>Apparel</td>\n",
              "      <td>Topwear</td>\n",
              "      <td>Tops</td>\n",
              "      <td>Pink</td>\n",
              "      <td>Casual</td>\n",
              "      <td>Doodle Kids Girls Pink I love Shopping Top</td>\n",
              "      <td>23623.jpg</td>\n",
              "      <td>http://assets.myntassets.com/v1/images/style/p...</td>\n",
              "    </tr>\n",
              "    <tr>\n",
              "      <th>4</th>\n",
              "      <td>4</td>\n",
              "      <td>47154</td>\n",
              "      <td>Girls</td>\n",
              "      <td>Apparel</td>\n",
              "      <td>Bottomwear</td>\n",
              "      <td>Capris</td>\n",
              "      <td>Black</td>\n",
              "      <td>Casual</td>\n",
              "      <td>Gini and Jony Girls Black Capris</td>\n",
              "      <td>47154.jpg</td>\n",
              "      <td>http://assets.myntassets.com/v1/images/style/p...</td>\n",
              "    </tr>\n",
              "  </tbody>\n",
              "</table>\n",
              "</div>\n",
              "      <button class=\"colab-df-convert\" onclick=\"convertToInteractive('df-64118d43-dd7c-487a-8efb-1936b082e277')\"\n",
              "              title=\"Convert this dataframe to an interactive table.\"\n",
              "              style=\"display:none;\">\n",
              "\n",
              "  <svg xmlns=\"http://www.w3.org/2000/svg\" height=\"24px\"viewBox=\"0 0 24 24\"\n",
              "       width=\"24px\">\n",
              "    <path d=\"M0 0h24v24H0V0z\" fill=\"none\"/>\n",
              "    <path d=\"M18.56 5.44l.94 2.06.94-2.06 2.06-.94-2.06-.94-.94-2.06-.94 2.06-2.06.94zm-11 1L8.5 8.5l.94-2.06 2.06-.94-2.06-.94L8.5 2.5l-.94 2.06-2.06.94zm10 10l.94 2.06.94-2.06 2.06-.94-2.06-.94-.94-2.06-.94 2.06-2.06.94z\"/><path d=\"M17.41 7.96l-1.37-1.37c-.4-.4-.92-.59-1.43-.59-.52 0-1.04.2-1.43.59L10.3 9.45l-7.72 7.72c-.78.78-.78 2.05 0 2.83L4 21.41c.39.39.9.59 1.41.59.51 0 1.02-.2 1.41-.59l7.78-7.78 2.81-2.81c.8-.78.8-2.07 0-2.86zM5.41 20L4 18.59l7.72-7.72 1.47 1.35L5.41 20z\"/>\n",
              "  </svg>\n",
              "      </button>\n",
              "\n",
              "\n",
              "\n",
              "    <div id=\"df-35b0ab53-c4fa-4f2f-92f0-49d4801d66ac\">\n",
              "      <button class=\"colab-df-quickchart\" onclick=\"quickchart('df-35b0ab53-c4fa-4f2f-92f0-49d4801d66ac')\"\n",
              "              title=\"Suggest charts.\"\n",
              "              style=\"display:none;\">\n",
              "\n",
              "<svg xmlns=\"http://www.w3.org/2000/svg\" height=\"24px\"viewBox=\"0 0 24 24\"\n",
              "     width=\"24px\">\n",
              "    <g>\n",
              "        <path d=\"M19 3H5c-1.1 0-2 .9-2 2v14c0 1.1.9 2 2 2h14c1.1 0 2-.9 2-2V5c0-1.1-.9-2-2-2zM9 17H7v-7h2v7zm4 0h-2V7h2v10zm4 0h-2v-4h2v4z\"/>\n",
              "    </g>\n",
              "</svg>\n",
              "      </button>\n",
              "    </div>\n",
              "\n",
              "<style>\n",
              "  .colab-df-quickchart {\n",
              "    background-color: #E8F0FE;\n",
              "    border: none;\n",
              "    border-radius: 50%;\n",
              "    cursor: pointer;\n",
              "    display: none;\n",
              "    fill: #1967D2;\n",
              "    height: 32px;\n",
              "    padding: 0 0 0 0;\n",
              "    width: 32px;\n",
              "  }\n",
              "\n",
              "  .colab-df-quickchart:hover {\n",
              "    background-color: #E2EBFA;\n",
              "    box-shadow: 0px 1px 2px rgba(60, 64, 67, 0.3), 0px 1px 3px 1px rgba(60, 64, 67, 0.15);\n",
              "    fill: #174EA6;\n",
              "  }\n",
              "\n",
              "  [theme=dark] .colab-df-quickchart {\n",
              "    background-color: #3B4455;\n",
              "    fill: #D2E3FC;\n",
              "  }\n",
              "\n",
              "  [theme=dark] .colab-df-quickchart:hover {\n",
              "    background-color: #434B5C;\n",
              "    box-shadow: 0px 1px 3px 1px rgba(0, 0, 0, 0.15);\n",
              "    filter: drop-shadow(0px 1px 2px rgba(0, 0, 0, 0.3));\n",
              "    fill: #FFFFFF;\n",
              "  }\n",
              "</style>\n",
              "\n",
              "    <script>\n",
              "      async function quickchart(key) {\n",
              "        const containerElement = document.querySelector('#' + key);\n",
              "        const charts = await google.colab.kernel.invokeFunction(\n",
              "            'suggestCharts', [key], {});\n",
              "      }\n",
              "    </script>\n",
              "\n",
              "      <script>\n",
              "\n",
              "function displayQuickchartButton(domScope) {\n",
              "  let quickchartButtonEl =\n",
              "    domScope.querySelector('#df-35b0ab53-c4fa-4f2f-92f0-49d4801d66ac button.colab-df-quickchart');\n",
              "  quickchartButtonEl.style.display =\n",
              "    google.colab.kernel.accessAllowed ? 'block' : 'none';\n",
              "}\n",
              "\n",
              "        displayQuickchartButton(document);\n",
              "      </script>\n",
              "      <style>\n",
              "    .colab-df-container {\n",
              "      display:flex;\n",
              "      flex-wrap:wrap;\n",
              "      gap: 12px;\n",
              "    }\n",
              "\n",
              "    .colab-df-convert {\n",
              "      background-color: #E8F0FE;\n",
              "      border: none;\n",
              "      border-radius: 50%;\n",
              "      cursor: pointer;\n",
              "      display: none;\n",
              "      fill: #1967D2;\n",
              "      height: 32px;\n",
              "      padding: 0 0 0 0;\n",
              "      width: 32px;\n",
              "    }\n",
              "\n",
              "    .colab-df-convert:hover {\n",
              "      background-color: #E2EBFA;\n",
              "      box-shadow: 0px 1px 2px rgba(60, 64, 67, 0.3), 0px 1px 3px 1px rgba(60, 64, 67, 0.15);\n",
              "      fill: #174EA6;\n",
              "    }\n",
              "\n",
              "    [theme=dark] .colab-df-convert {\n",
              "      background-color: #3B4455;\n",
              "      fill: #D2E3FC;\n",
              "    }\n",
              "\n",
              "    [theme=dark] .colab-df-convert:hover {\n",
              "      background-color: #434B5C;\n",
              "      box-shadow: 0px 1px 3px 1px rgba(0, 0, 0, 0.15);\n",
              "      filter: drop-shadow(0px 1px 2px rgba(0, 0, 0, 0.3));\n",
              "      fill: #FFFFFF;\n",
              "    }\n",
              "  </style>\n",
              "\n",
              "      <script>\n",
              "        const buttonEl =\n",
              "          document.querySelector('#df-64118d43-dd7c-487a-8efb-1936b082e277 button.colab-df-convert');\n",
              "        buttonEl.style.display =\n",
              "          google.colab.kernel.accessAllowed ? 'block' : 'none';\n",
              "\n",
              "        async function convertToInteractive(key) {\n",
              "          const element = document.querySelector('#df-64118d43-dd7c-487a-8efb-1936b082e277');\n",
              "          const dataTable =\n",
              "            await google.colab.kernel.invokeFunction('convertToInteractive',\n",
              "                                                     [key], {});\n",
              "          if (!dataTable) return;\n",
              "\n",
              "          const docLinkHtml = 'Like what you see? Visit the ' +\n",
              "            '<a target=\"_blank\" href=https://colab.research.google.com/notebooks/data_table.ipynb>data table notebook</a>'\n",
              "            + ' to learn more about interactive tables.';\n",
              "          element.innerHTML = '';\n",
              "          dataTable['output_type'] = 'display_data';\n",
              "          await google.colab.output.renderOutput(dataTable, element);\n",
              "          const docLink = document.createElement('div');\n",
              "          docLink.innerHTML = docLinkHtml;\n",
              "          element.appendChild(docLink);\n",
              "        }\n",
              "      </script>\n",
              "    </div>\n",
              "  </div>\n"
            ],
            "text/plain": [
              "   index  ProductId Gender Category SubCategory ProductType Colour   Usage  \\\n",
              "0      0      42419  Girls  Apparel     Topwear        Tops  White  Casual   \n",
              "1      1      34009  Girls  Apparel     Topwear        Tops  Black  Casual   \n",
              "2      2      40143  Girls  Apparel     Topwear        Tops   Blue  Casual   \n",
              "3      3      23623  Girls  Apparel     Topwear        Tops   Pink  Casual   \n",
              "4      4      47154  Girls  Apparel  Bottomwear      Capris  Black  Casual   \n",
              "\n",
              "                                  ProductTitle      Image  \\\n",
              "0           Gini and Jony Girls Knit White Top  42419.jpg   \n",
              "1                Gini and Jony Girls Black Top  34009.jpg   \n",
              "2  Gini and Jony Girls Pretty Blossom Blue Top  40143.jpg   \n",
              "3   Doodle Kids Girls Pink I love Shopping Top  23623.jpg   \n",
              "4             Gini and Jony Girls Black Capris  47154.jpg   \n",
              "\n",
              "                                            ImageURL  \n",
              "0  http://assets.myntassets.com/v1/images/style/p...  \n",
              "1  http://assets.myntassets.com/v1/images/style/p...  \n",
              "2  http://assets.myntassets.com/v1/images/style/p...  \n",
              "3  http://assets.myntassets.com/v1/images/style/p...  \n",
              "4  http://assets.myntassets.com/v1/images/style/p...  "
            ]
          },
          "execution_count": 26,
          "metadata": {},
          "output_type": "execute_result"
        }
      ],
      "source": [
        "# Assuming you have a DataFrame called df\n",
        "df_with_index = df.reset_index()\n",
        "\n",
        "# Assuming you have a DataFrame called df\n",
        "df.reset_index(inplace=True)\n",
        "\n",
        "# Display the DataFrame with the new column index\n",
        "df.head()"
      ]
    },
    {
      "cell_type": "code",
      "execution_count": null,
      "metadata": {
        "colab": {
          "base_uri": "https://localhost:8080/"
        },
        "id": "TBM40GpbhBZJ",
        "outputId": "f6b75c4a-c596-45b2-a813-38b9149115c4"
      },
      "outputs": [
        {
          "data": {
            "text/plain": [
              "(2174, 11)"
            ]
          },
          "execution_count": 27,
          "metadata": {},
          "output_type": "execute_result"
        }
      ],
      "source": [
        "#total number of rows and column\n",
        "df.shape"
      ]
    },
    {
      "cell_type": "code",
      "execution_count": null,
      "metadata": {
        "colab": {
          "base_uri": "https://localhost:8080/"
        },
        "id": "aZoMyNv5hBmN",
        "outputId": "21f9dbec-d453-4877-baca-a6d54a6e41ef"
      },
      "outputs": [
        {
          "data": {
            "text/plain": [
              "['Gender',\n",
              " 'Category',\n",
              " 'SubCategory',\n",
              " 'ProductType',\n",
              " 'Colour',\n",
              " 'Usage',\n",
              " 'ProductTitle']"
            ]
          },
          "execution_count": 1,
          "metadata": {},
          "output_type": "execute_result"
        }
      ],
      "source": [
        "#selecting the relevant features\n",
        "selected_features=['Gender','Category','SubCategory','ProductType','Colour','Usage','ProductTitle']\n",
        "selected_features"
      ]
    },
    {
      "cell_type": "code",
      "execution_count": null,
      "metadata": {
        "colab": {
          "base_uri": "https://localhost:8080/"
        },
        "id": "xTftIo2fhYin",
        "outputId": "a339ef64-5d4a-41ec-b76a-b51f962c29dc"
      },
      "outputs": [
        {
          "name": "stdout",
          "output_type": "stream",
          "text": [
            "Index(['index', 'ProductId', 'Gender', 'Category', 'SubCategory',\n",
            "       'ProductType', 'Colour', 'Usage', 'ProductTitle', 'Image', 'ImageURL'],\n",
            "      dtype='object')\n",
            "0              Girls Apparel Topwear Tops White Casual\n",
            "1              Girls Apparel Topwear Tops Black Casual\n",
            "2               Girls Apparel Topwear Tops Blue Casual\n",
            "3               Girls Apparel Topwear Tops Pink Casual\n",
            "4         Girls Apparel Bottomwear Capris Black Casual\n",
            "                             ...                      \n",
            "2169    Women Footwear Shoes Casual Shoes Black Casual\n",
            "2170            Women Footwear Shoes Flats Blue Casual\n",
            "2171            Women Footwear Shoes Flats Pink Casual\n",
            "2172           Women Footwear Shoes Heels Black Casual\n",
            "2173            Women Footwear Shoes Heels Blue Casual\n",
            "Length: 2174, dtype: object\n"
          ]
        }
      ],
      "source": [
        "# Verify the column names in your dataset\n",
        "print(df.columns)\n",
        "\n",
        "# Combine the selected features\n",
        "combined_features = df['Gender'] + ' ' +df['ProductTitle'] + ' ' + df['Category'] + ' ' + df['SubCategory'] + ' ' + df['ProductType'] + ' ' + df['Colour'] + ' ' + df['Usage']\n",
        "\n",
        "# Display the combined features\n",
        "print(combined_features)\n",
        "combined_features.shape"
      ]
    },
    {
      "cell_type": "code",
      "execution_count": null,
      "metadata": {
        "id": "om_yy0Cthf5Q"
      },
      "outputs": [],
      "source": [
        "#convert textual data into numerical data\n",
        "vectorizer=TfidfVectorizer()\n"
      ]
    },
    {
      "cell_type": "code",
      "execution_count": null,
      "metadata": {
        "id": "saDLBWUShkTr"
      },
      "outputs": [],
      "source": [
        "feature_vectors=vectorizer.fit_transform(combined_features)"
      ]
    },
    {
      "cell_type": "code",
      "execution_count": null,
      "metadata": {
        "colab": {
          "base_uri": "https://localhost:8080/"
        },
        "id": "MawZytvqhnjk",
        "outputId": "67a05cb2-c28a-4a40-f541-fb0dd28d2b2e"
      },
      "outputs": [
        {
          "data": {
            "text/plain": [
              "<2174x89 sparse matrix of type '<class 'numpy.float64'>'\n",
              "\twith 12428 stored elements in Compressed Sparse Row format>"
            ]
          },
          "execution_count": 32,
          "metadata": {},
          "output_type": "execute_result"
        }
      ],
      "source": [
        "feature_vectors"
      ]
    },
    {
      "cell_type": "code",
      "execution_count": null,
      "metadata": {
        "id": "n9TP4irnhtBC"
      },
      "outputs": [],
      "source": [
        "#cosine similarity\n",
        "#getting similarity score using cosine similarity\n",
        "similarity=cosine_similarity(feature_vectors)"
      ]
    },
    {
      "cell_type": "code",
      "execution_count": null,
      "metadata": {
        "id": "WW6z2lShkcGX"
      },
      "outputs": [],
      "source": [
        "# Round the similarity values to two decimal places\n",
        "similarity= np.round(similarity, decimals=2)"
      ]
    },
    {
      "cell_type": "code",
      "execution_count": null,
      "metadata": {
        "colab": {
          "base_uri": "https://localhost:8080/"
        },
        "id": "CueULcCwhtJt",
        "outputId": "edf81b15-1984-412d-94f5-0ecadb10ecad"
      },
      "outputs": [
        {
          "data": {
            "text/plain": [
              "array([[1.        , 0.82086334, 0.80648582, ..., 0.03602434, 0.04366241,\n",
              "        0.04263056],\n",
              "       [0.82086334, 1.        , 0.8090005 , ..., 0.03613667, 0.24987308,\n",
              "        0.04276348],\n",
              "       [0.80648582, 0.8090005 , 1.        , ..., 0.03550373, 0.04303142,\n",
              "        0.27996654],\n",
              "       ...,\n",
              "       [0.03602434, 0.03613667, 0.03550373, ..., 1.        , 0.33281061,\n",
              "        0.32494547],\n",
              "       [0.04366241, 0.24987308, 0.04303142, ..., 0.33281061, 1.        ,\n",
              "        0.74155164],\n",
              "       [0.04263056, 0.04276348, 0.27996654, ..., 0.32494547, 0.74155164,\n",
              "        1.        ]])"
            ]
          },
          "execution_count": 34,
          "metadata": {},
          "output_type": "execute_result"
        }
      ],
      "source": [
        "similarity"
      ]
    },
    {
      "cell_type": "code",
      "execution_count": null,
      "metadata": {
        "colab": {
          "base_uri": "https://localhost:8080/"
        },
        "id": "6ihH3DvkhxsF",
        "outputId": "952b2474-183a-4576-f8e4-dd792e66c1c4"
      },
      "outputs": [
        {
          "data": {
            "text/plain": [
              "(2174, 2174)"
            ]
          },
          "execution_count": 35,
          "metadata": {},
          "output_type": "execute_result"
        }
      ],
      "source": [
        "similarity.shape\n",
        "#we have to check the similiarity with each movie"
      ]
    },
    {
      "cell_type": "code",
      "execution_count": null,
      "metadata": {
        "id": "BxJAWWlzig9a"
      },
      "outputs": [],
      "source": [
        "#\n",
        "# Function to get recommendations for a specific product\n",
        "#def get_recommendations(product_title, similarity_scores, df, num_recommendations=10):\n",
        " #   find_close_match = difflib.get_close_matches(product_title, df['ProductTitle'].tolist())\n",
        "  #  close_match = find_close_match[0]\n",
        "   # index_of_product = df[df.ProductTitle == close_match].index[0]\n",
        "    #similarity_scores = list(enumerate(similarity_scores[index_of_product]))\n",
        "    #sorted_similar_products = sorted(similarity_scores, key=lambda x: x[1], reverse=True)\n",
        "    #return [df.loc[p[0], 'ProductTitle'] for p in sorted_similar_products[:num_recommendations]]\n",
        "\n",
        "\n",
        "def get_recommendations(product_title, similarity_scores, df, num_recommendations=20):\n",
        "    find_close_match = difflib.get_close_matches(product_title, df['ProductTitle'].tolist())\n",
        "    close_match = find_close_match[0]\n",
        "    index_of_product = df[df.ProductTitle == close_match].index[0]\n",
        "    similarity_scores = list(enumerate(similarity_scores[index_of_product]))\n",
        "    sorted_similar_products = sorted(similarity_scores, key=lambda x: x[1], reverse=True)\n",
        "\n",
        "    recommended_products = []\n",
        "    for p in sorted_similar_products[:num_recommendations]:\n",
        "        recommended_product = {\n",
        "            'image_url': df.loc[p[0], 'ImageURL'],\n",
        "            'similarity_score': p[1],\n",
        "        }\n",
        "        recommended_products.append(recommended_product)\n",
        "\n",
        "    return recommended_products\n",
        "\n",
        "   # recommended_image_urls = []\n",
        "   # for p in sorted_similar_products[:num_recommendations]:\n",
        "    #    image_url = df.loc[p[0], 'ImageURL']\n",
        "     #   recommended_image_urls.append(image_url)\n",
        "\n",
        "  #  return recommended_image_urls\n"
      ]
    },
    {
      "cell_type": "code",
      "execution_count": null,
      "metadata": {
        "id": "GU9w6LvxkcGZ"
      },
      "outputs": [],
      "source": [
        "\n",
        "\n",
        "\n"
      ]
    },
    {
      "cell_type": "code",
      "execution_count": null,
      "metadata": {
        "colab": {
          "base_uri": "https://localhost:8080/"
        },
        "id": "YkL0J2I2i_YJ",
        "outputId": "4c39fdad-a895-4a3a-8d55-98109323d268"
      },
      "outputs": [
        {
          "name": "stdout",
          "output_type": "stream",
          "text": [
            " * Serving Flask app '__main__'\n",
            " * Debug mode: off\n"
          ]
        },
        {
          "name": "stderr",
          "output_type": "stream",
          "text": [
            "INFO:werkzeug:\u001b[31m\u001b[1mWARNING: This is a development server. Do not use it in a production deployment. Use a production WSGI server instead.\u001b[0m\n",
            " * Running on http://127.0.0.1:5000\n",
            "INFO:werkzeug:\u001b[33mPress CTRL+C to quit\u001b[0m\n"
          ]
        },
        {
          "name": "stdout",
          "output_type": "stream",
          "text": [
            " * Running on http://8f56-35-245-62-155.ngrok.io\n",
            " * Traffic stats available on http://127.0.0.1:4040\n"
          ]
        },
        {
          "name": "stderr",
          "output_type": "stream",
          "text": [
            "INFO:werkzeug:127.0.0.1 - - [04/Aug/2023 10:23:02] \"POST /get_recommendations HTTP/1.1\" 200 -\n",
            "INFO:werkzeug:127.0.0.1 - - [04/Aug/2023 10:24:00] \"POST /get_recommendations HTTP/1.1\" 200 -\n",
            "INFO:werkzeug:127.0.0.1 - - [04/Aug/2023 10:24:54] \"POST /get_recommendations HTTP/1.1\" 200 -\n",
            "INFO:werkzeug:127.0.0.1 - - [04/Aug/2023 10:25:41] \"POST /get_recommendations HTTP/1.1\" 200 -\n"
          ]
        }
      ],
      "source": [
        "@app.route('/get_recommendations', methods=['POST'])\n",
        "def get_recommendations_endpoint():\n",
        "    data = request.get_json()\n",
        "    product_title = data.get('product_title')\n",
        "\n",
        "    # Get recommendations using the provided product_title\n",
        "   # recommended_image_urls = get_recommendations(product_title, similarity, df, num_recommendations=4)\n",
        "\n",
        "    # Return the recommendations as JSON\n",
        "    #return jsonify({'image_urls': recommended_image_urls})\n",
        "\n",
        "     # Get recommendations using the provided product_title\n",
        "    recommended_products = get_recommendations(product_title, similarity, df, num_recommendations=20)\n",
        "\n",
        "    # Return the recommendations as JSON\n",
        "    return jsonify({'recommended_products': recommended_products})\n",
        "\n",
        "#@app.route('/get_recommendations', methods=['POST'])\n",
        "#def get_recommendations_endpoint():\n",
        " #   data = request.get_json()\n",
        "  #  product_title = data.get('product_title')\n",
        "\n",
        "    # Assuming you have implemented the 'get_recommendations' function correctly\n",
        "   # recommended_products = get_recommendations(product_title, similarity, df, num_recommendations=20)\n",
        "\n",
        "    # Return the recommendations as JSON\n",
        "    #return jsonify({'recommendations': recommended_products})\n",
        "\n",
        "if __name__ == '__main__':\n",
        "   app.run()"
      ]
    }
  ],
  "metadata": {
    "colab": {
      "provenance": []
    },
    "kernelspec": {
      "display_name": "Python 3 (ipykernel)",
      "language": "python",
      "name": "python3"
    },
    "language_info": {
      "codemirror_mode": {
        "name": "ipython",
        "version": 3
      },
      "file_extension": ".py",
      "mimetype": "text/x-python",
      "name": "python",
      "nbconvert_exporter": "python",
      "pygments_lexer": "ipython3",
      "version": "3.10.12"
    }
  },
  "nbformat": 4,
  "nbformat_minor": 0
}