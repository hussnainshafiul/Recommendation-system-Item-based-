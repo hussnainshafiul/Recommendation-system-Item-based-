{
 "cells": [
  {
   "cell_type": "code",
   "execution_count": 1,
   "id": "801e3e5b",
   "metadata": {},
   "outputs": [],
   "source": [
    "import numpy as np\n",
    "import pandas as pd\n",
    "import difflib\n",
    "from sklearn.feature_extraction.text import TfidfVectorizer\n",
    "from sklearn.metrics.pairwise import cosine_similarity\n"
   ]
  },
  {
   "cell_type": "code",
   "execution_count": 2,
   "id": "9f46b1ed",
   "metadata": {},
   "outputs": [],
   "source": [
    "# loading the data from the csv file\n",
    "df=pd.read_csv('fashion.csv')"
   ]
  },
  {
   "cell_type": "code",
   "execution_count": 3,
   "id": "a5de13a9",
   "metadata": {},
   "outputs": [
    {
     "data": {
      "text/plain": [
       "(2906, 10)"
      ]
     },
     "execution_count": 3,
     "metadata": {},
     "output_type": "execute_result"
    }
   ],
   "source": [
    "df.shape"
   ]
  },
  {
   "cell_type": "code",
   "execution_count": 4,
   "id": "d82a4caa",
   "metadata": {},
   "outputs": [
    {
     "name": "stdout",
     "output_type": "stream",
     "text": [
      "<class 'pandas.core.frame.DataFrame'>\n",
      "RangeIndex: 2906 entries, 0 to 2905\n",
      "Data columns (total 10 columns):\n",
      " #   Column        Non-Null Count  Dtype \n",
      "---  ------        --------------  ----- \n",
      " 0   ProductId     2906 non-null   int64 \n",
      " 1   Gender        2906 non-null   object\n",
      " 2   Category      2906 non-null   object\n",
      " 3   SubCategory   2906 non-null   object\n",
      " 4   ProductType   2906 non-null   object\n",
      " 5   Colour        2906 non-null   object\n",
      " 6   Usage         2906 non-null   object\n",
      " 7   ProductTitle  2906 non-null   object\n",
      " 8   Image         2906 non-null   object\n",
      " 9   ImageURL      2906 non-null   object\n",
      "dtypes: int64(1), object(9)\n",
      "memory usage: 227.2+ KB\n"
     ]
    }
   ],
   "source": [
    "df.info()"
   ]
  },
  {
   "cell_type": "code",
   "execution_count": 5,
   "id": "686118c6",
   "metadata": {},
   "outputs": [
    {
     "data": {
      "text/html": [
       "<div>\n",
       "<style scoped>\n",
       "    .dataframe tbody tr th:only-of-type {\n",
       "        vertical-align: middle;\n",
       "    }\n",
       "\n",
       "    .dataframe tbody tr th {\n",
       "        vertical-align: top;\n",
       "    }\n",
       "\n",
       "    .dataframe thead th {\n",
       "        text-align: right;\n",
       "    }\n",
       "</style>\n",
       "<table border=\"1\" class=\"dataframe\">\n",
       "  <thead>\n",
       "    <tr style=\"text-align: right;\">\n",
       "      <th></th>\n",
       "      <th>ProductId</th>\n",
       "      <th>Gender</th>\n",
       "      <th>Category</th>\n",
       "      <th>SubCategory</th>\n",
       "      <th>ProductType</th>\n",
       "      <th>Colour</th>\n",
       "      <th>Usage</th>\n",
       "      <th>ProductTitle</th>\n",
       "      <th>Image</th>\n",
       "      <th>ImageURL</th>\n",
       "    </tr>\n",
       "  </thead>\n",
       "  <tbody>\n",
       "    <tr>\n",
       "      <th>0</th>\n",
       "      <td>42419</td>\n",
       "      <td>Girls</td>\n",
       "      <td>Apparel</td>\n",
       "      <td>Topwear</td>\n",
       "      <td>Tops</td>\n",
       "      <td>White</td>\n",
       "      <td>Casual</td>\n",
       "      <td>Gini and Jony Girls Knit White Top</td>\n",
       "      <td>42419.jpg</td>\n",
       "      <td>http://assets.myntassets.com/v1/images/style/p...</td>\n",
       "    </tr>\n",
       "    <tr>\n",
       "      <th>1</th>\n",
       "      <td>34009</td>\n",
       "      <td>Girls</td>\n",
       "      <td>Apparel</td>\n",
       "      <td>Topwear</td>\n",
       "      <td>Tops</td>\n",
       "      <td>Black</td>\n",
       "      <td>Casual</td>\n",
       "      <td>Gini and Jony Girls Black Top</td>\n",
       "      <td>34009.jpg</td>\n",
       "      <td>http://assets.myntassets.com/v1/images/style/p...</td>\n",
       "    </tr>\n",
       "    <tr>\n",
       "      <th>2</th>\n",
       "      <td>40143</td>\n",
       "      <td>Girls</td>\n",
       "      <td>Apparel</td>\n",
       "      <td>Topwear</td>\n",
       "      <td>Tops</td>\n",
       "      <td>Blue</td>\n",
       "      <td>Casual</td>\n",
       "      <td>Gini and Jony Girls Pretty Blossom Blue Top</td>\n",
       "      <td>40143.jpg</td>\n",
       "      <td>http://assets.myntassets.com/v1/images/style/p...</td>\n",
       "    </tr>\n",
       "    <tr>\n",
       "      <th>3</th>\n",
       "      <td>23623</td>\n",
       "      <td>Girls</td>\n",
       "      <td>Apparel</td>\n",
       "      <td>Topwear</td>\n",
       "      <td>Tops</td>\n",
       "      <td>Pink</td>\n",
       "      <td>Casual</td>\n",
       "      <td>Doodle Kids Girls Pink I love Shopping Top</td>\n",
       "      <td>23623.jpg</td>\n",
       "      <td>http://assets.myntassets.com/v1/images/style/p...</td>\n",
       "    </tr>\n",
       "    <tr>\n",
       "      <th>4</th>\n",
       "      <td>47154</td>\n",
       "      <td>Girls</td>\n",
       "      <td>Apparel</td>\n",
       "      <td>Bottomwear</td>\n",
       "      <td>Capris</td>\n",
       "      <td>Black</td>\n",
       "      <td>Casual</td>\n",
       "      <td>Gini and Jony Girls Black Capris</td>\n",
       "      <td>47154.jpg</td>\n",
       "      <td>http://assets.myntassets.com/v1/images/style/p...</td>\n",
       "    </tr>\n",
       "  </tbody>\n",
       "</table>\n",
       "</div>"
      ],
      "text/plain": [
       "   ProductId Gender Category SubCategory ProductType Colour   Usage  \\\n",
       "0      42419  Girls  Apparel     Topwear        Tops  White  Casual   \n",
       "1      34009  Girls  Apparel     Topwear        Tops  Black  Casual   \n",
       "2      40143  Girls  Apparel     Topwear        Tops   Blue  Casual   \n",
       "3      23623  Girls  Apparel     Topwear        Tops   Pink  Casual   \n",
       "4      47154  Girls  Apparel  Bottomwear      Capris  Black  Casual   \n",
       "\n",
       "                                  ProductTitle      Image  \\\n",
       "0           Gini and Jony Girls Knit White Top  42419.jpg   \n",
       "1                Gini and Jony Girls Black Top  34009.jpg   \n",
       "2  Gini and Jony Girls Pretty Blossom Blue Top  40143.jpg   \n",
       "3   Doodle Kids Girls Pink I love Shopping Top  23623.jpg   \n",
       "4             Gini and Jony Girls Black Capris  47154.jpg   \n",
       "\n",
       "                                            ImageURL  \n",
       "0  http://assets.myntassets.com/v1/images/style/p...  \n",
       "1  http://assets.myntassets.com/v1/images/style/p...  \n",
       "2  http://assets.myntassets.com/v1/images/style/p...  \n",
       "3  http://assets.myntassets.com/v1/images/style/p...  \n",
       "4  http://assets.myntassets.com/v1/images/style/p...  "
      ]
     },
     "execution_count": 5,
     "metadata": {},
     "output_type": "execute_result"
    }
   ],
   "source": [
    "df.head()"
   ]
  },
  {
   "cell_type": "code",
   "execution_count": 6,
   "id": "0f13e286",
   "metadata": {},
   "outputs": [
    {
     "data": {
      "text/plain": [
       "ProductId       0\n",
       "Gender          0\n",
       "Category        0\n",
       "SubCategory     0\n",
       "ProductType     0\n",
       "Colour          0\n",
       "Usage           0\n",
       "ProductTitle    0\n",
       "Image           0\n",
       "ImageURL        0\n",
       "dtype: int64"
      ]
     },
     "execution_count": 6,
     "metadata": {},
     "output_type": "execute_result"
    }
   ],
   "source": [
    "#check null values\n",
    "df.isnull().sum()"
   ]
  },
  {
   "cell_type": "code",
   "execution_count": 7,
   "id": "849ac9da",
   "metadata": {},
   "outputs": [
    {
     "name": "stdout",
     "output_type": "stream",
     "text": [
      "      ProductId Gender  Category SubCategory   ProductType Colour   Usage  \\\n",
      "0         42419  Girls   Apparel     Topwear          Tops  White  Casual   \n",
      "1         34009  Girls   Apparel     Topwear          Tops  Black  Casual   \n",
      "2         40143  Girls   Apparel     Topwear          Tops   Blue  Casual   \n",
      "3         23623  Girls   Apparel     Topwear          Tops   Pink  Casual   \n",
      "4         47154  Girls   Apparel  Bottomwear        Capris  Black  Casual   \n",
      "...         ...    ...       ...         ...           ...    ...     ...   \n",
      "2901      51755  Women  Footwear       Shoes  Casual Shoes  Black  Casual   \n",
      "2902      47630  Women  Footwear       Shoes         Flats   Blue  Casual   \n",
      "2903      32836  Women  Footwear       Shoes         Flats   Pink  Casual   \n",
      "2904      35821  Women  Footwear       Shoes         Heels  Black  Casual   \n",
      "2905      18553  Women  Footwear       Shoes         Heels   Blue  Casual   \n",
      "\n",
      "                                     ProductTitle      Image  \\\n",
      "0              Gini and Jony Girls Knit White Top  42419.jpg   \n",
      "1                   Gini and Jony Girls Black Top  34009.jpg   \n",
      "2     Gini and Jony Girls Pretty Blossom Blue Top  40143.jpg   \n",
      "3      Doodle Kids Girls Pink I love Shopping Top  23623.jpg   \n",
      "4                Gini and Jony Girls Black Capris  47154.jpg   \n",
      "...                                           ...        ...   \n",
      "2901                    Catwalk Women Black Shoes  51755.jpg   \n",
      "2902              Carlton London Women Blue Shoes  47630.jpg   \n",
      "2903             Grendha Women Flori Pink Sandals  32836.jpg   \n",
      "2904                    Enroute Women Black Heels  35821.jpg   \n",
      "2905          Catwalk Women Mary Janes Blue Flats  18553.jpg   \n",
      "\n",
      "                                               ImageURL  \n",
      "0     http://assets.myntassets.com/v1/images/style/p...  \n",
      "1     http://assets.myntassets.com/v1/images/style/p...  \n",
      "2     http://assets.myntassets.com/v1/images/style/p...  \n",
      "3     http://assets.myntassets.com/v1/images/style/p...  \n",
      "4     http://assets.myntassets.com/v1/images/style/p...  \n",
      "...                                                 ...  \n",
      "2901  http://assets.myntassets.com/v1/images/style/p...  \n",
      "2902  http://assets.myntassets.com/v1/images/style/p...  \n",
      "2903  http://assets.myntassets.com/v1/images/style/p...  \n",
      "2904  http://assets.myntassets.com/v1/images/style/p...  \n",
      "2905  http://assets.myntassets.com/v1/images/style/p...  \n",
      "\n",
      "[2131 rows x 10 columns]\n"
     ]
    }
   ],
   "source": [
    "# Assuming you have a DataFrame called 'df' with a column 'ProductTitle'\n",
    "import pandas as pd\n",
    "\n",
    "def normalize_title(title):\n",
    "    words = title.lower().split()\n",
    "    sorted_words = ' '.join(sorted(words))\n",
    "    return sorted_words\n",
    "\n",
    "# Convert titles to normalized form for comparison\n",
    "df['NormalizedTitle'] = df['ProductTitle'].apply(normalize_title)\n",
    "\n",
    "# Remove duplicates from 'df' in place\n",
    "df.drop_duplicates(subset='NormalizedTitle', keep='first', inplace=True)\n",
    "\n",
    "# Remove the 'NormalizedTitle' column\n",
    "df.drop(columns=['NormalizedTitle'], inplace=True)\n",
    "\n",
    "# Print or use the modified DataFrame 'df' with duplicates removed\n",
    "print(df)\n"
   ]
  },
  {
   "cell_type": "code",
   "execution_count": 8,
   "id": "540a741a",
   "metadata": {},
   "outputs": [
    {
     "data": {
      "text/html": [
       "<div>\n",
       "<style scoped>\n",
       "    .dataframe tbody tr th:only-of-type {\n",
       "        vertical-align: middle;\n",
       "    }\n",
       "\n",
       "    .dataframe tbody tr th {\n",
       "        vertical-align: top;\n",
       "    }\n",
       "\n",
       "    .dataframe thead th {\n",
       "        text-align: right;\n",
       "    }\n",
       "</style>\n",
       "<table border=\"1\" class=\"dataframe\">\n",
       "  <thead>\n",
       "    <tr style=\"text-align: right;\">\n",
       "      <th></th>\n",
       "      <th>index</th>\n",
       "      <th>ProductId</th>\n",
       "      <th>Gender</th>\n",
       "      <th>Category</th>\n",
       "      <th>SubCategory</th>\n",
       "      <th>ProductType</th>\n",
       "      <th>Colour</th>\n",
       "      <th>Usage</th>\n",
       "      <th>ProductTitle</th>\n",
       "      <th>Image</th>\n",
       "      <th>ImageURL</th>\n",
       "    </tr>\n",
       "  </thead>\n",
       "  <tbody>\n",
       "    <tr>\n",
       "      <th>0</th>\n",
       "      <td>0</td>\n",
       "      <td>42419</td>\n",
       "      <td>Girls</td>\n",
       "      <td>Apparel</td>\n",
       "      <td>Topwear</td>\n",
       "      <td>Tops</td>\n",
       "      <td>White</td>\n",
       "      <td>Casual</td>\n",
       "      <td>Gini and Jony Girls Knit White Top</td>\n",
       "      <td>42419.jpg</td>\n",
       "      <td>http://assets.myntassets.com/v1/images/style/p...</td>\n",
       "    </tr>\n",
       "    <tr>\n",
       "      <th>1</th>\n",
       "      <td>1</td>\n",
       "      <td>34009</td>\n",
       "      <td>Girls</td>\n",
       "      <td>Apparel</td>\n",
       "      <td>Topwear</td>\n",
       "      <td>Tops</td>\n",
       "      <td>Black</td>\n",
       "      <td>Casual</td>\n",
       "      <td>Gini and Jony Girls Black Top</td>\n",
       "      <td>34009.jpg</td>\n",
       "      <td>http://assets.myntassets.com/v1/images/style/p...</td>\n",
       "    </tr>\n",
       "    <tr>\n",
       "      <th>2</th>\n",
       "      <td>2</td>\n",
       "      <td>40143</td>\n",
       "      <td>Girls</td>\n",
       "      <td>Apparel</td>\n",
       "      <td>Topwear</td>\n",
       "      <td>Tops</td>\n",
       "      <td>Blue</td>\n",
       "      <td>Casual</td>\n",
       "      <td>Gini and Jony Girls Pretty Blossom Blue Top</td>\n",
       "      <td>40143.jpg</td>\n",
       "      <td>http://assets.myntassets.com/v1/images/style/p...</td>\n",
       "    </tr>\n",
       "    <tr>\n",
       "      <th>3</th>\n",
       "      <td>3</td>\n",
       "      <td>23623</td>\n",
       "      <td>Girls</td>\n",
       "      <td>Apparel</td>\n",
       "      <td>Topwear</td>\n",
       "      <td>Tops</td>\n",
       "      <td>Pink</td>\n",
       "      <td>Casual</td>\n",
       "      <td>Doodle Kids Girls Pink I love Shopping Top</td>\n",
       "      <td>23623.jpg</td>\n",
       "      <td>http://assets.myntassets.com/v1/images/style/p...</td>\n",
       "    </tr>\n",
       "    <tr>\n",
       "      <th>4</th>\n",
       "      <td>4</td>\n",
       "      <td>47154</td>\n",
       "      <td>Girls</td>\n",
       "      <td>Apparel</td>\n",
       "      <td>Bottomwear</td>\n",
       "      <td>Capris</td>\n",
       "      <td>Black</td>\n",
       "      <td>Casual</td>\n",
       "      <td>Gini and Jony Girls Black Capris</td>\n",
       "      <td>47154.jpg</td>\n",
       "      <td>http://assets.myntassets.com/v1/images/style/p...</td>\n",
       "    </tr>\n",
       "  </tbody>\n",
       "</table>\n",
       "</div>"
      ],
      "text/plain": [
       "   index  ProductId Gender Category SubCategory ProductType Colour   Usage  \\\n",
       "0      0      42419  Girls  Apparel     Topwear        Tops  White  Casual   \n",
       "1      1      34009  Girls  Apparel     Topwear        Tops  Black  Casual   \n",
       "2      2      40143  Girls  Apparel     Topwear        Tops   Blue  Casual   \n",
       "3      3      23623  Girls  Apparel     Topwear        Tops   Pink  Casual   \n",
       "4      4      47154  Girls  Apparel  Bottomwear      Capris  Black  Casual   \n",
       "\n",
       "                                  ProductTitle      Image  \\\n",
       "0           Gini and Jony Girls Knit White Top  42419.jpg   \n",
       "1                Gini and Jony Girls Black Top  34009.jpg   \n",
       "2  Gini and Jony Girls Pretty Blossom Blue Top  40143.jpg   \n",
       "3   Doodle Kids Girls Pink I love Shopping Top  23623.jpg   \n",
       "4             Gini and Jony Girls Black Capris  47154.jpg   \n",
       "\n",
       "                                            ImageURL  \n",
       "0  http://assets.myntassets.com/v1/images/style/p...  \n",
       "1  http://assets.myntassets.com/v1/images/style/p...  \n",
       "2  http://assets.myntassets.com/v1/images/style/p...  \n",
       "3  http://assets.myntassets.com/v1/images/style/p...  \n",
       "4  http://assets.myntassets.com/v1/images/style/p...  "
      ]
     },
     "execution_count": 8,
     "metadata": {},
     "output_type": "execute_result"
    }
   ],
   "source": [
    "# Dataframe named df\n",
    "df_with_index = df.reset_index()\n",
    "df.reset_index(inplace=True)\n",
    "\n",
    "# Display the DataFrame with the new column index\n",
    "df.head()"
   ]
  },
  {
   "cell_type": "code",
   "execution_count": 9,
   "id": "2c888a13",
   "metadata": {},
   "outputs": [
    {
     "data": {
      "text/plain": [
       "(2131, 11)"
      ]
     },
     "execution_count": 9,
     "metadata": {},
     "output_type": "execute_result"
    }
   ],
   "source": [
    "#total number of rows and column\n",
    "df.shape"
   ]
  },
  {
   "cell_type": "code",
   "execution_count": 10,
   "id": "bf8bedf0",
   "metadata": {},
   "outputs": [],
   "source": [
    "#dropping the irrelevant columns \n",
    "df.drop(columns=[\"Image\",\"ImageURL\"] , inplace=True)"
   ]
  },
  {
   "cell_type": "code",
   "execution_count": 11,
   "id": "8e0223d8",
   "metadata": {},
   "outputs": [
    {
     "data": {
      "text/plain": [
       "['Gender',\n",
       " 'Category',\n",
       " 'SubCategory',\n",
       " 'ProductType',\n",
       " 'Colour',\n",
       " 'Usage',\n",
       " 'ProductTitle']"
      ]
     },
     "execution_count": 11,
     "metadata": {},
     "output_type": "execute_result"
    }
   ],
   "source": [
    "#selecting the relevant features\n",
    "selected_features=['Gender','Category','SubCategory','ProductType','Colour','Usage','ProductTitle']\n",
    "selected_features"
   ]
  },
  {
   "cell_type": "code",
   "execution_count": 12,
   "id": "479605ad",
   "metadata": {
    "scrolled": true
   },
   "outputs": [
    {
     "name": "stdout",
     "output_type": "stream",
     "text": [
      "Index(['index', 'ProductId', 'Gender', 'Category', 'SubCategory',\n",
      "       'ProductType', 'Colour', 'Usage', 'ProductTitle'],\n",
      "      dtype='object')\n",
      "0       Girls Gini and Jony Girls Knit White Top Appar...\n",
      "1       Girls Gini and Jony Girls Black Top Apparel To...\n",
      "2       Girls Gini and Jony Girls Pretty Blossom Blue ...\n",
      "3       Girls Doodle Kids Girls Pink I love Shopping T...\n",
      "4       Girls Gini and Jony Girls Black Capris Apparel...\n",
      "                              ...                        \n",
      "2126    Women Catwalk Women Black Shoes Footwear Shoes...\n",
      "2127    Women Carlton London Women Blue Shoes Footwear...\n",
      "2128    Women Grendha Women Flori Pink Sandals Footwea...\n",
      "2129    Women Enroute Women Black Heels Footwear Shoes...\n",
      "2130    Women Catwalk Women Mary Janes Blue Flats Foot...\n",
      "Length: 2131, dtype: object\n"
     ]
    },
    {
     "data": {
      "text/plain": [
       "(2131,)"
      ]
     },
     "execution_count": 12,
     "metadata": {},
     "output_type": "execute_result"
    }
   ],
   "source": [
    "# Verify the column names in your dataset\n",
    "print(df.columns)\n",
    "\n",
    "# Combine the selected features\n",
    "combined_features = df['Gender'] + ' ' +df['ProductTitle'] + ' ' + df['Category'] + ' ' + df['SubCategory'] + ' ' + df['ProductType'] + ' ' + df['Colour'] + ' ' + df['Usage']\n",
    "\n",
    "# Display the combined features\n",
    "print(combined_features)\n",
    "combined_features.shape"
   ]
  },
  {
   "cell_type": "code",
   "execution_count": 13,
   "id": "0def387f",
   "metadata": {},
   "outputs": [],
   "source": [
    "#convert textual data into numerical data\n",
    "vectorizer=TfidfVectorizer()\n",
    "\n"
   ]
  },
  {
   "cell_type": "code",
   "execution_count": 14,
   "id": "12fe1933",
   "metadata": {},
   "outputs": [],
   "source": [
    "feature_vectors=vectorizer.fit_transform(combined_features)"
   ]
  },
  {
   "cell_type": "code",
   "execution_count": 15,
   "id": "6048f0b1",
   "metadata": {},
   "outputs": [
    {
     "data": {
      "text/plain": [
       "(2131, 1225)"
      ]
     },
     "execution_count": 15,
     "metadata": {},
     "output_type": "execute_result"
    }
   ],
   "source": [
    "feature_vectors.shape\n"
   ]
  },
  {
   "cell_type": "code",
   "execution_count": 16,
   "id": "5c21f42a",
   "metadata": {},
   "outputs": [],
   "source": [
    "#cosine similarity \n",
    "#getting similarity score using cosine similarity\n",
    "similarity=cosine_similarity(feature_vectors,feature_vectors)"
   ]
  },
  {
   "cell_type": "code",
   "execution_count": 17,
   "id": "0b90130d",
   "metadata": {},
   "outputs": [],
   "source": [
    "# Round the similarity values to two decimal places\n",
    "similarity= np.round(similarity, decimals=2)"
   ]
  },
  {
   "cell_type": "code",
   "execution_count": 18,
   "id": "bcf4d534",
   "metadata": {},
   "outputs": [],
   "source": [
    "np.savetxt('similarity.csv', similarity, delimiter=',')"
   ]
  },
  {
   "cell_type": "code",
   "execution_count": 19,
   "id": "55dca6c8",
   "metadata": {},
   "outputs": [
    {
     "name": "stdout",
     "output_type": "stream",
     "text": [
      "Cosine similarity matrix saved to: similarity_matrix.csv\n"
     ]
    }
   ],
   "source": [
    "#you can save it to csv and open it to analyze it\n",
    "\n",
    "# Create a DataFrame from the similarity matrix\n",
    "similarity_df = pd.DataFrame(similarity, index=df.index, columns=df.index)\n",
    "\n",
    "# Save DataFrame to CSV file\n",
    "csv_path = 'similarity_matrix.csv'\n",
    "similarity_df.to_csv(csv_path)\n",
    "\n",
    "print(\"Cosine similarity matrix saved to:\", csv_path)\n"
   ]
  },
  {
   "cell_type": "code",
   "execution_count": 20,
   "id": "4db17fbc",
   "metadata": {},
   "outputs": [
    {
     "data": {
      "text/plain": [
       "(2131, 2131)"
      ]
     },
     "execution_count": 20,
     "metadata": {},
     "output_type": "execute_result"
    }
   ],
   "source": [
    "similarity_df.shape\n",
    "#we have to check the similiarity with each movie"
   ]
  },
  {
   "cell_type": "code",
   "execution_count": 21,
   "id": "f9a55464",
   "metadata": {},
   "outputs": [],
   "source": [
    "#creating a list with all the movie names given in the dataset\n",
    "list_of_titles=df['ProductTitle'].tolist()\n"
   ]
  },
  {
   "cell_type": "code",
   "execution_count": 25,
   "id": "e2932a1c",
   "metadata": {},
   "outputs": [
    {
     "name": "stdout",
     "output_type": "stream",
     "text": [
      "Enter a Product_title:KKR Boys Fangear Tee\n",
      "Recommended Products:\n",
      "1. 'KKR Boys Fangear Tee' (Similarity Score: 1.00)\n",
      "2. 'KKR Boys Fangear Polo Jersey' (Similarity Score: 0.70)\n",
      "3. 'RCB Boys Fangear Tee' (Similarity Score: 0.70)\n",
      "4. 'Reebok Kids Kkr Boy's Premium Blue Jerseys' (Similarity Score: 0.42)\n",
      "5. 'Nike Kids Boys Blue T-shirt' (Similarity Score: 0.42)\n",
      "6. 'Doodle Boys Printed Blue T-shirt' (Similarity Score: 0.37)\n",
      "7. 'Gini and Jony Boys Blue T-shirt' (Similarity Score: 0.36)\n",
      "8. 'Madagascar3 Boys Blue Printed T-Shirt' (Similarity Score: 0.35)\n",
      "9. 'Madagascar 3 Boys Blue Printed T-shirt' (Similarity Score: 0.34)\n",
      "10. 'Gini and Jony Boys Printed Blue T-shirt' (Similarity Score: 0.34)\n"
     ]
    }
   ],
   "source": [
    "# Function to get recommendations for a specific product\n",
    "def get_recommendations(product, similarity_scores, df, num_recommendations=10):\n",
    "    find_close_match = difflib.get_close_matches(product, df['ProductTitle'].tolist())\n",
    "    close_match = find_close_match[0]\n",
    "    index_of_product = df[df.ProductTitle == close_match].index[0]\n",
    "    similarity_scores = list(enumerate(similarity_scores[index_of_product]))\n",
    "    sorted_similar_products = sorted(similarity_scores, key=lambda x: x[1], reverse=True)\n",
    "    recommended_products = [(df.loc[p[0], 'ProductTitle'], p[1]) for p in sorted_similar_products[:num_recommendations]]\n",
    "    return recommended_products\n",
    "\n",
    "product_title=input('Enter a Product_title:')\n",
    "\n",
    "# Get recommendations for the random query\n",
    "recommended_products = get_recommendations(product_title, similarity, df, num_recommendations=10)\n",
    "\n",
    "print(\"Recommended Products:\")\n",
    "for i, (product, similarity_score) in enumerate(recommended_products, 1):\n",
    "    print(f\"{i}. '{product}' (Similarity Score: {similarity_score:.2f})\")\n",
    "\n",
    "\n"
   ]
  },
  {
   "cell_type": "code",
   "execution_count": null,
   "id": "8fe3d7a5",
   "metadata": {},
   "outputs": [],
   "source": []
  },
  {
   "cell_type": "code",
   "execution_count": null,
   "id": "acc3621f",
   "metadata": {},
   "outputs": [],
   "source": []
  },
  {
   "cell_type": "code",
   "execution_count": null,
   "id": "328b3c8f",
   "metadata": {},
   "outputs": [],
   "source": []
  },
  {
   "cell_type": "code",
   "execution_count": null,
   "id": "cf3cec75",
   "metadata": {},
   "outputs": [],
   "source": []
  },
  {
   "cell_type": "code",
   "execution_count": null,
   "id": "9706906c",
   "metadata": {},
   "outputs": [],
   "source": []
  }
 ],
 "metadata": {
  "kernelspec": {
   "display_name": "Python 3 (ipykernel)",
   "language": "python",
   "name": "python3"
  },
  "language_info": {
   "codemirror_mode": {
    "name": "ipython",
    "version": 3
   },
   "file_extension": ".py",
   "mimetype": "text/x-python",
   "name": "python",
   "nbconvert_exporter": "python",
   "pygments_lexer": "ipython3",
   "version": "3.10.12"
  }
 },
 "nbformat": 4,
 "nbformat_minor": 5
}
